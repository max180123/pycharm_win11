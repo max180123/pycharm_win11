{
 "cells": [
  {
   "cell_type": "code",
   "id": "initial_id",
   "metadata": {
    "collapsed": true,
    "jupyter": {
     "is_executing": true
    }
   },
   "source": [
    "import ipywidgets as widgets # 导入widgets库\n",
    "from IPython.display import display # 导入展示库\n",
    "\n",
    "# 定义一个计算函数\n",
    "def f(a, b, c):\n",
    "    # 创建表达式字符串\n",
    "    expression = f'{a}{b}{c}'\n",
    "    # 计算表达式的值\n",
    "    result = eval(expression)\n",
    "    print('{}{}{}={:.2f}'.format(a, b, c,result)) # 结果保留两位小数\n",
    "\n",
    "a = widgets.FloatText(\n",
    "    min=-100,\n",
    "    max=100,\n",
    "    step=0.1,\n",
    "    description='a',\n",
    "    read_format='.1f')\n",
    "\n",
    "a1 = widgets.FloatSlider(\n",
    "    min=-100,\n",
    "    max=100,\n",
    "    step=0.1,\n",
    "    read_format='.1f')\n",
    "\n",
    "# 将部件a和a1链接在一起\n",
    "alink = widgets.jslink((a, 'value'), (a1, 'value'))\n",
    "\n",
    "b = widgets.Dropdown(\n",
    "    options=['+', '-', '*', '/'],\n",
    "    value='+',\n",
    "    description='算数符')\n",
    "\n",
    "c = widgets.FloatText(\n",
    "    min=-100,\n",
    "    max=100,\n",
    "    step=0.1,\n",
    "    description='c',\n",
    "    read_format='.1f')\n",
    "\n",
    "c1 = widgets.FloatSlider(\n",
    "    min=-100,\n",
    "    max=100,\n",
    "    step=0.1,\n",
    "    read_format='.1f')\n",
    "\n",
    "# 将部件c和c1链接在一起\n",
    "clink = widgets.jslink((c, 'value'), (c1, 'value'))\n",
    "\n",
    "# 创建交互式面板\n",
    "out = widgets.interactive_output(f, {'a':a, 'b':b, 'c':c})\n",
    "ui = widgets.VBox([widgets.HBox([a, a1]), widgets.HBox([c, c1]), b, out])\n",
    "display(ui, out)"
   ],
   "outputs": [],
   "execution_count": null
  },
  {
   "metadata": {},
   "cell_type": "code",
   "source": [
    "print(\n",
    "    'hello'\n",
    ")"
   ],
   "id": "291d7e01d9910767",
   "outputs": [],
   "execution_count": null
  },
  {
   "metadata": {},
   "cell_type": "code",
   "source": [
    "a = 3\n",
    "a"
   ],
   "id": "2bd32bbcc16fe728",
   "outputs": [],
   "execution_count": null
  },
  {
   "metadata": {},
   "cell_type": "code",
   "source": "",
   "id": "76c8c804465c1dbc",
   "outputs": [],
   "execution_count": null
  }
 ],
 "metadata": {
  "kernelspec": {
   "display_name": "pytorch",
   "language": "python",
   "name": "pytorch"
  },
  "language_info": {
   "codemirror_mode": {
    "name": "ipython",
    "version": 2
   },
   "file_extension": ".py",
   "mimetype": "text/x-python",
   "name": "python",
   "nbconvert_exporter": "python",
   "pygments_lexer": "ipython2",
   "version": "2.7.6"
  }
 },
 "nbformat": 4,
 "nbformat_minor": 5
}
